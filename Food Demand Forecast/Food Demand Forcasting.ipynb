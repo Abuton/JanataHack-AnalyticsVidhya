{
 "cells": [
  {
   "cell_type": "code",
   "execution_count": 1,
   "metadata": {},
   "outputs": [],
   "source": [
    "import pandas as pd\n",
    "import numpy as np\n",
    "import seaborn as sns\n",
    "import matplotlib.pyplot as plt\n",
    "\n",
    "import warnings\n",
    "warnings.filterwarnings('ignore')\n"
   ]
  },
  {
   "cell_type": "code",
   "execution_count": 2,
   "metadata": {},
   "outputs": [
    {
     "data": {
      "text/plain": [
       "((456548, 9), (32573, 8))"
      ]
     },
     "execution_count": 2,
     "metadata": {},
     "output_type": "execute_result"
    }
   ],
   "source": [
    "train = pd.read_csv('train.csv')\n",
    "test = pd.read_csv('test_QoiMO9B.csv')\n",
    "sub = pd.read_csv('sample_submission_hSlSoT6.csv')\n",
    "meal = pd.read_csv('meal_info.csv')\n",
    "fulfil = pd.read_csv('fulfilment_center_info.csv')\n",
    "\n",
    "train.shape, test.shape"
   ]
  },
  {
   "cell_type": "code",
   "execution_count": 3,
   "metadata": {},
   "outputs": [
    {
     "data": {
      "text/html": [
       "<div>\n",
       "<style scoped>\n",
       "    .dataframe tbody tr th:only-of-type {\n",
       "        vertical-align: middle;\n",
       "    }\n",
       "\n",
       "    .dataframe tbody tr th {\n",
       "        vertical-align: top;\n",
       "    }\n",
       "\n",
       "    .dataframe thead th {\n",
       "        text-align: right;\n",
       "    }\n",
       "</style>\n",
       "<table border=\"1\" class=\"dataframe\">\n",
       "  <thead>\n",
       "    <tr style=\"text-align: right;\">\n",
       "      <th></th>\n",
       "      <th>meal_id</th>\n",
       "      <th>category</th>\n",
       "      <th>cuisine</th>\n",
       "    </tr>\n",
       "  </thead>\n",
       "  <tbody>\n",
       "    <tr>\n",
       "      <th>0</th>\n",
       "      <td>1885</td>\n",
       "      <td>Beverages</td>\n",
       "      <td>Thai</td>\n",
       "    </tr>\n",
       "    <tr>\n",
       "      <th>1</th>\n",
       "      <td>1993</td>\n",
       "      <td>Beverages</td>\n",
       "      <td>Thai</td>\n",
       "    </tr>\n",
       "    <tr>\n",
       "      <th>2</th>\n",
       "      <td>2539</td>\n",
       "      <td>Beverages</td>\n",
       "      <td>Thai</td>\n",
       "    </tr>\n",
       "    <tr>\n",
       "      <th>3</th>\n",
       "      <td>1248</td>\n",
       "      <td>Beverages</td>\n",
       "      <td>Indian</td>\n",
       "    </tr>\n",
       "    <tr>\n",
       "      <th>4</th>\n",
       "      <td>2631</td>\n",
       "      <td>Beverages</td>\n",
       "      <td>Indian</td>\n",
       "    </tr>\n",
       "  </tbody>\n",
       "</table>\n",
       "</div>"
      ],
      "text/plain": [
       "   meal_id   category cuisine\n",
       "0     1885  Beverages    Thai\n",
       "1     1993  Beverages    Thai\n",
       "2     2539  Beverages    Thai\n",
       "3     1248  Beverages  Indian\n",
       "4     2631  Beverages  Indian"
      ]
     },
     "execution_count": 3,
     "metadata": {},
     "output_type": "execute_result"
    }
   ],
   "source": [
    "meal.head()"
   ]
  },
  {
   "cell_type": "code",
   "execution_count": 4,
   "metadata": {},
   "outputs": [
    {
     "data": {
      "text/html": [
       "<div>\n",
       "<style scoped>\n",
       "    .dataframe tbody tr th:only-of-type {\n",
       "        vertical-align: middle;\n",
       "    }\n",
       "\n",
       "    .dataframe tbody tr th {\n",
       "        vertical-align: top;\n",
       "    }\n",
       "\n",
       "    .dataframe thead th {\n",
       "        text-align: right;\n",
       "    }\n",
       "</style>\n",
       "<table border=\"1\" class=\"dataframe\">\n",
       "  <thead>\n",
       "    <tr style=\"text-align: right;\">\n",
       "      <th></th>\n",
       "      <th>id</th>\n",
       "      <th>week</th>\n",
       "      <th>center_id</th>\n",
       "      <th>meal_id</th>\n",
       "      <th>checkout_price</th>\n",
       "      <th>base_price</th>\n",
       "      <th>emailer_for_promotion</th>\n",
       "      <th>homepage_featured</th>\n",
       "      <th>num_orders</th>\n",
       "    </tr>\n",
       "  </thead>\n",
       "  <tbody>\n",
       "    <tr>\n",
       "      <th>0</th>\n",
       "      <td>1379560</td>\n",
       "      <td>1</td>\n",
       "      <td>55</td>\n",
       "      <td>1885</td>\n",
       "      <td>136.83</td>\n",
       "      <td>152.29</td>\n",
       "      <td>0</td>\n",
       "      <td>0</td>\n",
       "      <td>177</td>\n",
       "    </tr>\n",
       "    <tr>\n",
       "      <th>1</th>\n",
       "      <td>1466964</td>\n",
       "      <td>1</td>\n",
       "      <td>55</td>\n",
       "      <td>1993</td>\n",
       "      <td>136.83</td>\n",
       "      <td>135.83</td>\n",
       "      <td>0</td>\n",
       "      <td>0</td>\n",
       "      <td>270</td>\n",
       "    </tr>\n",
       "    <tr>\n",
       "      <th>2</th>\n",
       "      <td>1346989</td>\n",
       "      <td>1</td>\n",
       "      <td>55</td>\n",
       "      <td>2539</td>\n",
       "      <td>134.86</td>\n",
       "      <td>135.86</td>\n",
       "      <td>0</td>\n",
       "      <td>0</td>\n",
       "      <td>189</td>\n",
       "    </tr>\n",
       "  </tbody>\n",
       "</table>\n",
       "</div>"
      ],
      "text/plain": [
       "        id  week  center_id  meal_id  checkout_price  base_price  \\\n",
       "0  1379560     1         55     1885          136.83      152.29   \n",
       "1  1466964     1         55     1993          136.83      135.83   \n",
       "2  1346989     1         55     2539          134.86      135.86   \n",
       "\n",
       "   emailer_for_promotion  homepage_featured  num_orders  \n",
       "0                      0                  0         177  \n",
       "1                      0                  0         270  \n",
       "2                      0                  0         189  "
      ]
     },
     "execution_count": 4,
     "metadata": {},
     "output_type": "execute_result"
    }
   ],
   "source": [
    "train.head(3)"
   ]
  },
  {
   "cell_type": "code",
   "execution_count": 5,
   "metadata": {},
   "outputs": [
    {
     "data": {
      "text/html": [
       "<div>\n",
       "<style scoped>\n",
       "    .dataframe tbody tr th:only-of-type {\n",
       "        vertical-align: middle;\n",
       "    }\n",
       "\n",
       "    .dataframe tbody tr th {\n",
       "        vertical-align: top;\n",
       "    }\n",
       "\n",
       "    .dataframe thead th {\n",
       "        text-align: right;\n",
       "    }\n",
       "</style>\n",
       "<table border=\"1\" class=\"dataframe\">\n",
       "  <thead>\n",
       "    <tr style=\"text-align: right;\">\n",
       "      <th></th>\n",
       "      <th>center_id</th>\n",
       "      <th>city_code</th>\n",
       "      <th>region_code</th>\n",
       "      <th>center_type</th>\n",
       "      <th>op_area</th>\n",
       "    </tr>\n",
       "  </thead>\n",
       "  <tbody>\n",
       "    <tr>\n",
       "      <th>0</th>\n",
       "      <td>11</td>\n",
       "      <td>679</td>\n",
       "      <td>56</td>\n",
       "      <td>TYPE_A</td>\n",
       "      <td>3.7</td>\n",
       "    </tr>\n",
       "    <tr>\n",
       "      <th>1</th>\n",
       "      <td>13</td>\n",
       "      <td>590</td>\n",
       "      <td>56</td>\n",
       "      <td>TYPE_B</td>\n",
       "      <td>6.7</td>\n",
       "    </tr>\n",
       "  </tbody>\n",
       "</table>\n",
       "</div>"
      ],
      "text/plain": [
       "   center_id  city_code  region_code center_type  op_area\n",
       "0         11        679           56      TYPE_A      3.7\n",
       "1         13        590           56      TYPE_B      6.7"
      ]
     },
     "execution_count": 5,
     "metadata": {},
     "output_type": "execute_result"
    }
   ],
   "source": [
    "fulfil.head(2)"
   ]
  },
  {
   "cell_type": "code",
   "execution_count": 6,
   "metadata": {},
   "outputs": [
    {
     "name": "stdout",
     "output_type": "stream",
     "text": [
      "(456548, 9) (32573, 8)\n"
     ]
    }
   ],
   "source": [
    "# join data --> meal and train then meal and test\n",
    "train_meal = pd.merge(train, meal, how='left', on='meal_id')\n",
    "test_meal = pd.merge(test, meal, how='left', on='meal_id')\n",
    "\n",
    "print(train.shape, test.shape)"
   ]
  },
  {
   "cell_type": "code",
   "execution_count": 7,
   "metadata": {},
   "outputs": [],
   "source": [
    "train_mf = pd.merge(train_meal, fulfil, how='left', on='center_id')\n",
    "test_mf = pd.merge(test_meal, fulfil, how='left', on='center_id')\n"
   ]
  },
  {
   "cell_type": "code",
   "execution_count": 8,
   "metadata": {},
   "outputs": [
    {
     "name": "stdout",
     "output_type": "stream",
     "text": [
      "(456548, 15) (32573, 14)\n"
     ]
    }
   ],
   "source": [
    "print(train_mf.shape, test_mf.shape)"
   ]
  },
  {
   "cell_type": "code",
   "execution_count": 9,
   "metadata": {},
   "outputs": [
    {
     "data": {
      "text/html": [
       "<div>\n",
       "<style scoped>\n",
       "    .dataframe tbody tr th:only-of-type {\n",
       "        vertical-align: middle;\n",
       "    }\n",
       "\n",
       "    .dataframe tbody tr th {\n",
       "        vertical-align: top;\n",
       "    }\n",
       "\n",
       "    .dataframe thead th {\n",
       "        text-align: right;\n",
       "    }\n",
       "</style>\n",
       "<table border=\"1\" class=\"dataframe\">\n",
       "  <thead>\n",
       "    <tr style=\"text-align: right;\">\n",
       "      <th></th>\n",
       "      <th>id</th>\n",
       "      <th>week</th>\n",
       "      <th>center_id</th>\n",
       "      <th>meal_id</th>\n",
       "      <th>checkout_price</th>\n",
       "      <th>base_price</th>\n",
       "      <th>emailer_for_promotion</th>\n",
       "      <th>homepage_featured</th>\n",
       "      <th>num_orders</th>\n",
       "      <th>category</th>\n",
       "      <th>cuisine</th>\n",
       "      <th>city_code</th>\n",
       "      <th>region_code</th>\n",
       "      <th>center_type</th>\n",
       "      <th>op_area</th>\n",
       "    </tr>\n",
       "  </thead>\n",
       "  <tbody>\n",
       "    <tr>\n",
       "      <th>0</th>\n",
       "      <td>1379560</td>\n",
       "      <td>1</td>\n",
       "      <td>55</td>\n",
       "      <td>1885</td>\n",
       "      <td>136.83</td>\n",
       "      <td>152.29</td>\n",
       "      <td>0</td>\n",
       "      <td>0</td>\n",
       "      <td>177</td>\n",
       "      <td>Beverages</td>\n",
       "      <td>Thai</td>\n",
       "      <td>647</td>\n",
       "      <td>56</td>\n",
       "      <td>TYPE_C</td>\n",
       "      <td>2.0</td>\n",
       "    </tr>\n",
       "    <tr>\n",
       "      <th>1</th>\n",
       "      <td>1466964</td>\n",
       "      <td>1</td>\n",
       "      <td>55</td>\n",
       "      <td>1993</td>\n",
       "      <td>136.83</td>\n",
       "      <td>135.83</td>\n",
       "      <td>0</td>\n",
       "      <td>0</td>\n",
       "      <td>270</td>\n",
       "      <td>Beverages</td>\n",
       "      <td>Thai</td>\n",
       "      <td>647</td>\n",
       "      <td>56</td>\n",
       "      <td>TYPE_C</td>\n",
       "      <td>2.0</td>\n",
       "    </tr>\n",
       "    <tr>\n",
       "      <th>2</th>\n",
       "      <td>1346989</td>\n",
       "      <td>1</td>\n",
       "      <td>55</td>\n",
       "      <td>2539</td>\n",
       "      <td>134.86</td>\n",
       "      <td>135.86</td>\n",
       "      <td>0</td>\n",
       "      <td>0</td>\n",
       "      <td>189</td>\n",
       "      <td>Beverages</td>\n",
       "      <td>Thai</td>\n",
       "      <td>647</td>\n",
       "      <td>56</td>\n",
       "      <td>TYPE_C</td>\n",
       "      <td>2.0</td>\n",
       "    </tr>\n",
       "    <tr>\n",
       "      <th>3</th>\n",
       "      <td>1338232</td>\n",
       "      <td>1</td>\n",
       "      <td>55</td>\n",
       "      <td>2139</td>\n",
       "      <td>339.50</td>\n",
       "      <td>437.53</td>\n",
       "      <td>0</td>\n",
       "      <td>0</td>\n",
       "      <td>54</td>\n",
       "      <td>Beverages</td>\n",
       "      <td>Indian</td>\n",
       "      <td>647</td>\n",
       "      <td>56</td>\n",
       "      <td>TYPE_C</td>\n",
       "      <td>2.0</td>\n",
       "    </tr>\n",
       "    <tr>\n",
       "      <th>4</th>\n",
       "      <td>1448490</td>\n",
       "      <td>1</td>\n",
       "      <td>55</td>\n",
       "      <td>2631</td>\n",
       "      <td>243.50</td>\n",
       "      <td>242.50</td>\n",
       "      <td>0</td>\n",
       "      <td>0</td>\n",
       "      <td>40</td>\n",
       "      <td>Beverages</td>\n",
       "      <td>Indian</td>\n",
       "      <td>647</td>\n",
       "      <td>56</td>\n",
       "      <td>TYPE_C</td>\n",
       "      <td>2.0</td>\n",
       "    </tr>\n",
       "  </tbody>\n",
       "</table>\n",
       "</div>"
      ],
      "text/plain": [
       "        id  week  center_id  meal_id  checkout_price  base_price  \\\n",
       "0  1379560     1         55     1885          136.83      152.29   \n",
       "1  1466964     1         55     1993          136.83      135.83   \n",
       "2  1346989     1         55     2539          134.86      135.86   \n",
       "3  1338232     1         55     2139          339.50      437.53   \n",
       "4  1448490     1         55     2631          243.50      242.50   \n",
       "\n",
       "   emailer_for_promotion  homepage_featured  num_orders   category cuisine  \\\n",
       "0                      0                  0         177  Beverages    Thai   \n",
       "1                      0                  0         270  Beverages    Thai   \n",
       "2                      0                  0         189  Beverages    Thai   \n",
       "3                      0                  0          54  Beverages  Indian   \n",
       "4                      0                  0          40  Beverages  Indian   \n",
       "\n",
       "   city_code  region_code center_type  op_area  \n",
       "0        647           56      TYPE_C      2.0  \n",
       "1        647           56      TYPE_C      2.0  \n",
       "2        647           56      TYPE_C      2.0  \n",
       "3        647           56      TYPE_C      2.0  \n",
       "4        647           56      TYPE_C      2.0  "
      ]
     },
     "execution_count": 9,
     "metadata": {},
     "output_type": "execute_result"
    }
   ],
   "source": [
    "train_mf.head()"
   ]
  },
  {
   "cell_type": "code",
   "execution_count": 10,
   "metadata": {},
   "outputs": [
    {
     "data": {
      "text/plain": [
       "(489121, 15)"
      ]
     },
     "execution_count": 10,
     "metadata": {},
     "output_type": "execute_result"
    }
   ],
   "source": [
    "df = pd.concat([train_mf, test_mf], ignore_index=True, sort=False)\n",
    "df.shape"
   ]
  },
  {
   "cell_type": "code",
   "execution_count": 11,
   "metadata": {},
   "outputs": [
    {
     "data": {
      "text/plain": [
       "id                       489121\n",
       "week                        155\n",
       "center_id                    77\n",
       "meal_id                      51\n",
       "checkout_price             1995\n",
       "base_price                 1931\n",
       "emailer_for_promotion         2\n",
       "homepage_featured             2\n",
       "num_orders                 1250\n",
       "category                     14\n",
       "cuisine                       4\n",
       "city_code                    51\n",
       "region_code                   8\n",
       "center_type                   3\n",
       "op_area                      30\n",
       "dtype: int64"
      ]
     },
     "execution_count": 11,
     "metadata": {},
     "output_type": "execute_result"
    }
   ],
   "source": [
    "df.nunique()"
   ]
  },
  {
   "cell_type": "markdown",
   "metadata": {},
   "source": [
    "${\\textbf{Feature Engineering}}$"
   ]
  },
  {
   "cell_type": "code",
   "execution_count": 12,
   "metadata": {},
   "outputs": [],
   "source": [
    "##################################### checkout_price ##############################################\n",
    "##################################################################################################\n",
    "\n",
    "df['week_checkout_price_mean'] = df.groupby('week')['checkout_price'].transform('mean')\n",
    "df['week_checkout_price_std'] = df.groupby('week')['checkout_price'].transform('std')\n",
    "\n",
    "df['center_id_checkout_price_mean'] = df.groupby('center_id')['checkout_price'].transform('mean')\n",
    "df['center_id_checkout_price_std'] = df.groupby('center_id')['checkout_price'].transform('std')\n",
    "\n",
    "df['meal_id_checkout_price_mean'] = df.groupby('meal_id')['checkout_price'].transform('mean')\n",
    "df['meal_id_checkout_price_std'] = df.groupby('meal_id')['checkout_price'].transform('std')\n",
    "\n",
    "df['category_checkout_price_mean'] = df.groupby('category')['checkout_price'].transform('mean')\n",
    "df['category_checkout_price_std'] = df.groupby('category')['checkout_price'].transform('std')\n",
    "\n",
    "df['cuisine_checkout_price_mean'] = df.groupby('cuisine')['checkout_price'].transform('mean')\n",
    "df['cuisine_checkout_price_std'] = df.groupby('cuisine')['checkout_price'].transform('std')\n",
    "\n",
    "df['city_code_checkout_price_mean'] = df.groupby('city_code')['checkout_price'].transform('mean')\n",
    "df['city_code_checkout_price_std'] = df.groupby('city_code')['checkout_price'].transform('std')\n",
    "\n",
    "df['region_code_checkout_price_mean'] = df.groupby('region_code')['checkout_price'].transform('mean')\n",
    "df['region_code_checkout_price_std'] = df.groupby('region_code')['checkout_price'].transform('std')\n",
    "\n",
    "df['center_type_checkout_price_mean'] = df.groupby('center_type')['checkout_price'].transform('mean')\n",
    "df['center_type_checkout_price_std'] = df.groupby('center_type')['checkout_price'].transform('std')\n",
    "\n",
    "df['op_area_checkout_price_mean'] = df.groupby('op_area')['checkout_price'].transform('mean')\n",
    "df['op_area_checkout_price_std'] = df.groupby('op_area')['checkout_price'].transform('std')\n",
    "\n",
    "\n",
    "##################################### base_price ##############################################\n",
    "##################################################################################################\n",
    "\n",
    "df['week_base_price_mean'] = df.groupby('week')['base_price'].transform('mean')\n",
    "df['week_base_price_std'] = df.groupby('week')['base_price'].transform('std')\n",
    "\n",
    "df['center_id_base_price_mean'] = df.groupby('center_id')['base_price'].transform('mean')\n",
    "df['center_id_base_price_std'] = df.groupby('center_id')['base_price'].transform('std')\n",
    "\n",
    "df['meal_id_base_price_mean'] = df.groupby('meal_id')['base_price'].transform('mean')\n",
    "df['meal_id_base_price_std'] = df.groupby('meal_id')['base_price'].transform('std')\n",
    "\n",
    "df['category_base_price_mean'] = df.groupby('category')['base_price'].transform('mean')\n",
    "df['category_base_price_std'] = df.groupby('category')['base_price'].transform('std')\n",
    "\n",
    "df['cuisine_base_price_mean'] = df.groupby('cuisine')['base_price'].transform('mean')\n",
    "df['cuisine_base_price_std'] = df.groupby('cuisine')['base_price'].transform('std')\n",
    "\n",
    "df['city_code_base_price_mean'] = df.groupby('city_code')['base_price'].transform('mean')\n",
    "df['city_code_base_price_std'] = df.groupby('city_code')['base_price'].transform('std')\n",
    "\n",
    "df['region_code_base_price_mean'] = df.groupby('region_code')['base_price'].transform('mean')\n",
    "df['region_code_base_price_std'] = df.groupby('region_code')['base_price'].transform('std')\n",
    "\n",
    "df['center_type_base_price_mean'] = df.groupby('center_type')['base_price'].transform('mean')\n",
    "df['center_type_base_price_std'] = df.groupby('center_type')['base_price'].transform('std')\n",
    "\n",
    "df['op_area_base_price_mean'] = df.groupby('op_area')['base_price'].transform('mean')\n",
    "df['op_area_base_price_std'] = df.groupby('op_area')['base_price'].transform('std')\n",
    "\n"
   ]
  },
  {
   "cell_type": "code",
   "execution_count": 13,
   "metadata": {},
   "outputs": [
    {
     "data": {
      "text/plain": [
       "array([ 9, 10, 13], dtype=int64)"
      ]
     },
     "execution_count": 13,
     "metadata": {},
     "output_type": "execute_result"
    }
   ],
   "source": [
    "cat_feature_index = np.where(df.dtypes == object)[0]\n",
    "cat_feature_index"
   ]
  },
  {
   "cell_type": "code",
   "execution_count": 15,
   "metadata": {},
   "outputs": [
    {
     "data": {
      "text/plain": [
       "(489121, 69)"
      ]
     },
     "execution_count": 15,
     "metadata": {},
     "output_type": "execute_result"
    }
   ],
   "source": [
    "from sklearn.compose import ColumnTransformer\n",
    "from sklearn.preprocessing import OneHotEncoder\n",
    "# ct =ColumnTransformer(transformers=[('encoder', OneHotEncoder(), [9,10,13])], remainder='passthrough')\n",
    "cols_to_dum = ['category', 'cuisine', 'center_type']\n",
    "df = pd.get_dummies(columns=cols_to_dum, data=df)\n",
    "df.shape"
   ]
  },
  {
   "cell_type": "code",
   "execution_count": 16,
   "metadata": {},
   "outputs": [
    {
     "data": {
      "text/plain": [
       "(489121, 65)"
      ]
     },
     "execution_count": 16,
     "metadata": {},
     "output_type": "execute_result"
    }
   ],
   "source": [
    "col_2_drop = ['id', 'week', 'center_id', 'meal_id']\n",
    "df = df.drop(columns=col_2_drop, axis=1)\n",
    "df.shape"
   ]
  },
  {
   "cell_type": "code",
   "execution_count": 18,
   "metadata": {},
   "outputs": [],
   "source": [
    "from sklearn.model_selection import train_test_split\n",
    "from sklearn.preprocessing import StandardScaler\n",
    "sc = StandardScaler()\n",
    "train_df = df[df['num_orders'].isna() == False]\n",
    "test_df = df[df['num_orders'].isna() == True]\n",
    "test_df.drop('num_orders', axis=1, inplace=True)\n"
   ]
  },
  {
   "cell_type": "code",
   "execution_count": 24,
   "metadata": {},
   "outputs": [],
   "source": [
    "X = train_df.drop('num_orders', axis=1)\n",
    "y = train_df['num_orders']\n"
   ]
  },
  {
   "cell_type": "code",
   "execution_count": 30,
   "metadata": {},
   "outputs": [],
   "source": [
    "def rmsle(true, pred):\n",
    "    from sklearn.metrics import mean_squared_error\n",
    "    return np.sqrt(mean_squared_error(true, pred))"
   ]
  },
  {
   "cell_type": "code",
   "execution_count": 31,
   "metadata": {},
   "outputs": [
    {
     "name": "stdout",
     "output_type": "stream",
     "text": [
      "0:\tlearn: 382.3927807\ttest: 382.3927807\ttest1: 445.1405089\tbest: 445.1405089 (0)\ttotal: 129ms\tremaining: 10m 44s\n",
      "500:\tlearn: 314.6526349\ttest: 314.6526349\ttest1: 381.3842680\tbest: 381.3842680 (500)\ttotal: 1m 10s\tremaining: 10m 30s\n",
      "1000:\tlearn: 276.0918943\ttest: 276.0918943\ttest1: 341.3661099\tbest: 341.3661099 (1000)\ttotal: 2m 19s\tremaining: 9m 16s\n",
      "1500:\tlearn: 252.7852070\ttest: 252.7852070\ttest1: 315.1890756\tbest: 315.1890756 (1500)\ttotal: 3m 16s\tremaining: 7m 38s\n",
      "2000:\tlearn: 238.8248731\ttest: 238.8248731\ttest1: 300.3772519\tbest: 300.3772519 (2000)\ttotal: 4m 12s\tremaining: 6m 18s\n",
      "2500:\tlearn: 229.3530159\ttest: 229.3530159\ttest1: 291.1094776\tbest: 291.1094776 (2500)\ttotal: 5m 3s\tremaining: 5m 3s\n",
      "3000:\tlearn: 222.2559081\ttest: 222.2559081\ttest1: 283.9358854\tbest: 283.9358854 (3000)\ttotal: 5m 54s\tremaining: 3m 56s\n",
      "3500:\tlearn: 217.2074234\ttest: 217.2074234\ttest1: 279.7593138\tbest: 279.7593138 (3500)\ttotal: 6m 45s\tremaining: 2m 53s\n",
      "4000:\tlearn: 213.1658279\ttest: 213.1658279\ttest1: 276.8041606\tbest: 276.8041606 (4000)\ttotal: 7m 34s\tremaining: 1m 53s\n",
      "4500:\tlearn: 209.7658265\ttest: 209.7658265\ttest1: 274.2704898\tbest: 274.2704898 (4500)\ttotal: 8m 24s\tremaining: 56s\n",
      "4999:\tlearn: 206.8512469\ttest: 206.8512469\ttest1: 272.0724637\tbest: 272.0724637 (4999)\ttotal: 9m 13s\tremaining: 0us\n",
      "\n",
      "bestTest = 272.0724637\n",
      "bestIteration = 4999\n",
      "\n",
      "err: 272.07246367984953\n",
      "0:\tlearn: 394.4000529\ttest: 394.4000529\ttest1: 401.1289579\tbest: 401.1289579 (0)\ttotal: 150ms\tremaining: 12m 27s\n",
      "500:\tlearn: 324.3206223\ttest: 324.3206223\ttest1: 333.1973389\tbest: 333.1973389 (500)\ttotal: 56.1s\tremaining: 8m 23s\n",
      "1000:\tlearn: 282.1999333\ttest: 282.1999333\ttest1: 295.9430712\tbest: 295.9430712 (1000)\ttotal: 1m 52s\tremaining: 7m 29s\n",
      "1500:\tlearn: 256.9267627\ttest: 256.9267627\ttest1: 274.6786996\tbest: 274.6786996 (1500)\ttotal: 2m 50s\tremaining: 6m 36s\n",
      "2000:\tlearn: 241.1299630\ttest: 241.1299630\ttest1: 261.1093253\tbest: 261.1093253 (2000)\ttotal: 3m 47s\tremaining: 5m 40s\n",
      "2500:\tlearn: 230.6779800\ttest: 230.6779800\ttest1: 251.6064362\tbest: 251.6064362 (2500)\ttotal: 4m 43s\tremaining: 4m 43s\n",
      "3000:\tlearn: 223.2921190\ttest: 223.2921190\ttest1: 244.6797200\tbest: 244.6797200 (3000)\ttotal: 5m 41s\tremaining: 3m 47s\n",
      "3500:\tlearn: 217.9392799\ttest: 217.9392799\ttest1: 239.6990319\tbest: 239.6990319 (3500)\ttotal: 6m 32s\tremaining: 2m 48s\n",
      "4000:\tlearn: 213.8435528\ttest: 213.8435528\ttest1: 235.8759304\tbest: 235.8759304 (4000)\ttotal: 7m 23s\tremaining: 1m 50s\n",
      "4500:\tlearn: 210.1282940\ttest: 210.1282940\ttest1: 232.8493781\tbest: 232.8493781 (4500)\ttotal: 8m 16s\tremaining: 55.1s\n",
      "4999:\tlearn: 206.9134312\ttest: 206.9134312\ttest1: 230.3424691\tbest: 230.3424691 (4999)\ttotal: 9m 6s\tremaining: 0us\n",
      "\n",
      "bestTest = 230.3424691\n",
      "bestIteration = 4999\n",
      "\n",
      "err: 230.3424690596421\n",
      "0:\tlearn: 397.7999407\ttest: 397.7999407\ttest1: 387.3971472\tbest: 387.3971472 (0)\ttotal: 112ms\tremaining: 9m 19s\n",
      "500:\tlearn: 327.8754262\ttest: 327.8754262\ttest1: 323.8115674\tbest: 323.8115674 (500)\ttotal: 52.6s\tremaining: 7m 52s\n",
      "1000:\tlearn: 285.1546163\ttest: 285.1546163\ttest1: 290.2181231\tbest: 290.2181231 (1000)\ttotal: 1m 45s\tremaining: 6m 59s\n",
      "1500:\tlearn: 259.8738826\ttest: 259.8738826\ttest1: 270.0329886\tbest: 270.0329886 (1500)\ttotal: 2m 37s\tremaining: 6m 6s\n",
      "2000:\tlearn: 244.2017937\ttest: 244.2017937\ttest1: 255.6269730\tbest: 255.6269730 (2000)\ttotal: 3m 29s\tremaining: 5m 14s\n",
      "2500:\tlearn: 233.9527384\ttest: 233.9527384\ttest1: 245.9308359\tbest: 245.9308359 (2500)\ttotal: 4m 21s\tremaining: 4m 21s\n",
      "3000:\tlearn: 226.6134201\ttest: 226.6134201\ttest1: 238.4764427\tbest: 238.4764427 (3000)\ttotal: 5m 13s\tremaining: 3m 28s\n",
      "3500:\tlearn: 221.3022004\ttest: 221.3022004\ttest1: 233.7941033\tbest: 233.7941033 (3500)\ttotal: 6m 4s\tremaining: 2m 36s\n",
      "4000:\tlearn: 217.1097462\ttest: 217.1097462\ttest1: 230.2233946\tbest: 230.2233946 (4000)\ttotal: 6m 55s\tremaining: 1m 43s\n",
      "4500:\tlearn: 213.3878114\ttest: 213.3878114\ttest1: 227.2462079\tbest: 227.2462079 (4500)\ttotal: 7m 46s\tremaining: 51.8s\n",
      "4999:\tlearn: 210.2430670\ttest: 210.2430670\ttest1: 224.5808767\tbest: 224.5808767 (4999)\ttotal: 8m 38s\tremaining: 0us\n",
      "\n",
      "bestTest = 224.5808767\n",
      "bestIteration = 4999\n",
      "\n",
      "err: 224.5808767427774\n",
      "0:\tlearn: 400.9289360\ttest: 400.9289360\ttest1: 374.2233033\tbest: 374.2233033 (0)\ttotal: 115ms\tremaining: 9m 32s\n",
      "500:\tlearn: 330.7684960\ttest: 330.7684960\ttest1: 303.2727230\tbest: 303.2727230 (500)\ttotal: 55.4s\tremaining: 8m 17s\n",
      "1000:\tlearn: 289.2083330\ttest: 289.2083330\ttest1: 265.2279985\tbest: 265.2279985 (1000)\ttotal: 1m 50s\tremaining: 7m 19s\n",
      "1500:\tlearn: 263.6687411\ttest: 263.6687411\ttest1: 244.7237164\tbest: 244.7237164 (1500)\ttotal: 2m 47s\tremaining: 6m 30s\n",
      "2000:\tlearn: 247.7777892\ttest: 247.7777892\ttest1: 232.3960296\tbest: 232.3960296 (2000)\ttotal: 3m 42s\tremaining: 5m 32s\n",
      "2500:\tlearn: 237.5911491\ttest: 237.5911491\ttest1: 224.5823253\tbest: 224.5823253 (2500)\ttotal: 4m 43s\tremaining: 4m 43s\n",
      "3000:\tlearn: 230.4482985\ttest: 230.4482985\ttest1: 219.4077394\tbest: 219.4077394 (3000)\ttotal: 5m 44s\tremaining: 3m 49s\n",
      "3500:\tlearn: 225.4313439\ttest: 225.4313439\ttest1: 215.6021747\tbest: 215.6021747 (3500)\ttotal: 6m 41s\tremaining: 2m 52s\n",
      "4000:\tlearn: 221.5434406\ttest: 221.5434406\ttest1: 212.5918118\tbest: 212.5918118 (4000)\ttotal: 7m 37s\tremaining: 1m 54s\n",
      "4500:\tlearn: 217.9278825\ttest: 217.9278825\ttest1: 209.8654418\tbest: 209.8654418 (4500)\ttotal: 8m 32s\tremaining: 56.8s\n",
      "4999:\tlearn: 214.7894455\ttest: 214.7894455\ttest1: 207.4857006\tbest: 207.4857006 (4999)\ttotal: 9m 28s\tremaining: 0us\n",
      "\n",
      "bestTest = 207.4857006\n",
      "bestIteration = 4999\n",
      "\n",
      "err: 207.48570061188454\n",
      "0:\tlearn: 402.7853914\ttest: 402.7853914\ttest1: 366.2487839\tbest: 366.2487839 (0)\ttotal: 124ms\tremaining: 10m 20s\n",
      "500:\tlearn: 333.4167427\ttest: 333.4167427\ttest1: 299.3852973\tbest: 299.3852973 (500)\ttotal: 58s\tremaining: 8m 40s\n",
      "1000:\tlearn: 291.6990244\ttest: 291.6990244\ttest1: 263.6564900\tbest: 263.6564900 (1000)\ttotal: 1m 51s\tremaining: 7m 24s\n",
      "1500:\tlearn: 266.1176263\ttest: 266.1176263\ttest1: 243.5616999\tbest: 243.5616999 (1500)\ttotal: 2m 48s\tremaining: 6m 32s\n",
      "2000:\tlearn: 250.4500115\ttest: 250.4500115\ttest1: 230.2101901\tbest: 230.2101901 (2000)\ttotal: 3m 47s\tremaining: 5m 41s\n",
      "2500:\tlearn: 240.1753419\ttest: 240.1753419\ttest1: 221.5740530\tbest: 221.5740530 (2500)\ttotal: 4m 44s\tremaining: 4m 44s\n",
      "3000:\tlearn: 232.7893194\ttest: 232.7893194\ttest1: 215.5739739\tbest: 215.5739739 (3000)\ttotal: 5m 40s\tremaining: 3m 47s\n",
      "3500:\tlearn: 227.3500746\ttest: 227.3500746\ttest1: 211.1341026\tbest: 211.1341026 (3500)\ttotal: 6m 36s\tremaining: 2m 49s\n",
      "4000:\tlearn: 222.8999732\ttest: 222.8999732\ttest1: 207.5778556\tbest: 207.5778556 (4000)\ttotal: 7m 32s\tremaining: 1m 53s\n",
      "4500:\tlearn: 219.0578200\ttest: 219.0578200\ttest1: 204.7107430\tbest: 204.7107430 (4500)\ttotal: 8m 28s\tremaining: 56.4s\n",
      "4999:\tlearn: 215.6446818\ttest: 215.6446818\ttest1: 202.3344961\tbest: 202.3344961 (4999)\ttotal: 9m 23s\tremaining: 0us\n",
      "\n",
      "bestTest = 202.3344961\n",
      "bestIteration = 4999\n",
      "\n",
      "err: 202.33449606803342\n"
     ]
    },
    {
     "data": {
      "text/plain": [
       "227.3632012324374"
      ]
     },
     "execution_count": 31,
     "metadata": {},
     "output_type": "execute_result"
    }
   ],
   "source": [
    "from catboost import CatBoostRegressor\n",
    "from sklearn.model_selection import KFold, StratifiedKFold\n",
    "err = []\n",
    "y_pred_totcb = []\n",
    "kfold = KFold(n_splits=5, random_state=101)\n",
    "for train_index, test_index in kfold.split(X,y):\n",
    "    X_train, X_test = X.iloc[train_index], X.iloc[test_index]\n",
    "    y_train, y_test = y.iloc[train_index], y.iloc[test_index]    \n",
    "    \n",
    "    m1 = CatBoostRegressor(iterations=5000, learning_rate=0.001, eval_metric='RMSE', random_state=110)\n",
    "    m1.fit(X_train, y_train, eval_set=[(X_train, y_train), (X_test, y_test)],\n",
    "           early_stopping_rounds=300, verbose=500)\n",
    "    preds = m1.predict(X_test)\n",
    "    print('err:', rmsle(y_test, preds))\n",
    "    err.append(rmsle(y_test, preds))\n",
    "    p2 = m1.predict(tes)\n",
    "    y_pred_totcb.append(p2)\n",
    "np.mean(err)"
   ]
  },
  {
   "cell_type": "code",
   "execution_count": 33,
   "metadata": {},
   "outputs": [],
   "source": [
    "predict1 = np.mean(y_pred_totcb, 0)\n",
    "\n",
    "a = {'num_orders': predict1}\n",
    "\n",
    "sub1 = pd.DataFrame(data=a)"
   ]
  },
  {
   "cell_type": "code",
   "execution_count": 34,
   "metadata": {},
   "outputs": [],
   "source": [
    "sub['num_orders'] = sub1\n",
    "sub.to_csv('sub1.csv', index=False)"
   ]
  },
  {
   "cell_type": "code",
   "execution_count": 35,
   "metadata": {},
   "outputs": [
    {
     "data": {
      "text/html": [
       "<div>\n",
       "<style scoped>\n",
       "    .dataframe tbody tr th:only-of-type {\n",
       "        vertical-align: middle;\n",
       "    }\n",
       "\n",
       "    .dataframe tbody tr th {\n",
       "        vertical-align: top;\n",
       "    }\n",
       "\n",
       "    .dataframe thead th {\n",
       "        text-align: right;\n",
       "    }\n",
       "</style>\n",
       "<table border=\"1\" class=\"dataframe\">\n",
       "  <thead>\n",
       "    <tr style=\"text-align: right;\">\n",
       "      <th></th>\n",
       "      <th>id</th>\n",
       "      <th>num_orders</th>\n",
       "    </tr>\n",
       "  </thead>\n",
       "  <tbody>\n",
       "    <tr>\n",
       "      <th>0</th>\n",
       "      <td>1028232</td>\n",
       "      <td>207.283272</td>\n",
       "    </tr>\n",
       "    <tr>\n",
       "      <th>1</th>\n",
       "      <td>1127204</td>\n",
       "      <td>207.283272</td>\n",
       "    </tr>\n",
       "    <tr>\n",
       "      <th>2</th>\n",
       "      <td>1212707</td>\n",
       "      <td>207.283272</td>\n",
       "    </tr>\n",
       "    <tr>\n",
       "      <th>3</th>\n",
       "      <td>1082698</td>\n",
       "      <td>203.665146</td>\n",
       "    </tr>\n",
       "    <tr>\n",
       "      <th>4</th>\n",
       "      <td>1400926</td>\n",
       "      <td>203.665146</td>\n",
       "    </tr>\n",
       "  </tbody>\n",
       "</table>\n",
       "</div>"
      ],
      "text/plain": [
       "        id  num_orders\n",
       "0  1028232  207.283272\n",
       "1  1127204  207.283272\n",
       "2  1212707  207.283272\n",
       "3  1082698  203.665146\n",
       "4  1400926  203.665146"
      ]
     },
     "execution_count": 35,
     "metadata": {},
     "output_type": "execute_result"
    }
   ],
   "source": [
    "sub.head()"
   ]
  },
  {
   "cell_type": "code",
   "execution_count": null,
   "metadata": {},
   "outputs": [],
   "source": []
  }
 ],
 "metadata": {
  "kernelspec": {
   "display_name": "Python 3",
   "language": "python",
   "name": "python3"
  },
  "language_info": {
   "codemirror_mode": {
    "name": "ipython",
    "version": 3
   },
   "file_extension": ".py",
   "mimetype": "text/x-python",
   "name": "python",
   "nbconvert_exporter": "python",
   "pygments_lexer": "ipython3",
   "version": "3.7.4"
  }
 },
 "nbformat": 4,
 "nbformat_minor": 2
}
