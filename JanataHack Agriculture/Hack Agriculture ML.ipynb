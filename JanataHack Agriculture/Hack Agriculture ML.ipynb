{
 "cells": [
  {
   "cell_type": "code",
   "execution_count": 1,
   "metadata": {},
   "outputs": [],
   "source": [
    "import pandas as pd\n",
    "import numpy as np\n",
    "import warnings\n",
    "warnings.filterwarnings('ignore')\n",
    "\n",
    "pd.set_option('max_columns', None)"
   ]
  },
  {
   "cell_type": "code",
   "execution_count": 2,
   "metadata": {},
   "outputs": [
    {
     "data": {
      "text/html": [
       "<div>\n",
       "<style scoped>\n",
       "    .dataframe tbody tr th:only-of-type {\n",
       "        vertical-align: middle;\n",
       "    }\n",
       "\n",
       "    .dataframe tbody tr th {\n",
       "        vertical-align: top;\n",
       "    }\n",
       "\n",
       "    .dataframe thead th {\n",
       "        text-align: right;\n",
       "    }\n",
       "</style>\n",
       "<table border=\"1\" class=\"dataframe\">\n",
       "  <thead>\n",
       "    <tr style=\"text-align: right;\">\n",
       "      <th></th>\n",
       "      <th>ID</th>\n",
       "      <th>Estimated_Insects_Count</th>\n",
       "      <th>Crop_Type</th>\n",
       "      <th>Soil_Type</th>\n",
       "      <th>Pesticide_Use_Category</th>\n",
       "      <th>Number_Doses_Week</th>\n",
       "      <th>Number_Weeks_Used</th>\n",
       "      <th>Number_Weeks_Quit</th>\n",
       "      <th>Season</th>\n",
       "      <th>Crop_Damage</th>\n",
       "    </tr>\n",
       "  </thead>\n",
       "  <tbody>\n",
       "    <tr>\n",
       "      <th>0</th>\n",
       "      <td>F00000001</td>\n",
       "      <td>188</td>\n",
       "      <td>1</td>\n",
       "      <td>0</td>\n",
       "      <td>1</td>\n",
       "      <td>0</td>\n",
       "      <td>0.0</td>\n",
       "      <td>0</td>\n",
       "      <td>1</td>\n",
       "      <td>0</td>\n",
       "    </tr>\n",
       "    <tr>\n",
       "      <th>1</th>\n",
       "      <td>F00000003</td>\n",
       "      <td>209</td>\n",
       "      <td>1</td>\n",
       "      <td>0</td>\n",
       "      <td>1</td>\n",
       "      <td>0</td>\n",
       "      <td>0.0</td>\n",
       "      <td>0</td>\n",
       "      <td>2</td>\n",
       "      <td>1</td>\n",
       "    </tr>\n",
       "    <tr>\n",
       "      <th>2</th>\n",
       "      <td>F00000004</td>\n",
       "      <td>257</td>\n",
       "      <td>1</td>\n",
       "      <td>0</td>\n",
       "      <td>1</td>\n",
       "      <td>0</td>\n",
       "      <td>0.0</td>\n",
       "      <td>0</td>\n",
       "      <td>2</td>\n",
       "      <td>1</td>\n",
       "    </tr>\n",
       "  </tbody>\n",
       "</table>\n",
       "</div>"
      ],
      "text/plain": [
       "          ID  Estimated_Insects_Count  Crop_Type  Soil_Type  \\\n",
       "0  F00000001                      188          1          0   \n",
       "1  F00000003                      209          1          0   \n",
       "2  F00000004                      257          1          0   \n",
       "\n",
       "   Pesticide_Use_Category  Number_Doses_Week  Number_Weeks_Used  \\\n",
       "0                       1                  0                0.0   \n",
       "1                       1                  0                0.0   \n",
       "2                       1                  0                0.0   \n",
       "\n",
       "   Number_Weeks_Quit  Season  Crop_Damage  \n",
       "0                  0       1            0  \n",
       "1                  0       2            1  \n",
       "2                  0       2            1  "
      ]
     },
     "execution_count": 2,
     "metadata": {},
     "output_type": "execute_result"
    }
   ],
   "source": [
    "train = pd.read_csv('train_yaOffsB.csv')\n",
    "test = pd.read_csv('test_pFkWwen.csv')\n",
    "sub = pd.read_csv('sample_submission_O1oDc4H.csv')\n",
    "\n",
    "train.head(3)"
   ]
  },
  {
   "cell_type": "code",
   "execution_count": 3,
   "metadata": {},
   "outputs": [
    {
     "data": {
      "text/plain": [
       "((88858, 10), (59310, 9))"
      ]
     },
     "execution_count": 3,
     "metadata": {},
     "output_type": "execute_result"
    }
   ],
   "source": [
    "train.shape, test.shape"
   ]
  },
  {
   "cell_type": "code",
   "execution_count": 4,
   "metadata": {},
   "outputs": [
    {
     "data": {
      "text/plain": [
       "(88858, 59310)"
      ]
     },
     "execution_count": 4,
     "metadata": {},
     "output_type": "execute_result"
    }
   ],
   "source": [
    "train['ID'].nunique(), test['ID'].nunique()"
   ]
  },
  {
   "cell_type": "code",
   "execution_count": 5,
   "metadata": {},
   "outputs": [
    {
     "data": {
      "text/html": [
       "<div>\n",
       "<style scoped>\n",
       "    .dataframe tbody tr th:only-of-type {\n",
       "        vertical-align: middle;\n",
       "    }\n",
       "\n",
       "    .dataframe tbody tr th {\n",
       "        vertical-align: top;\n",
       "    }\n",
       "\n",
       "    .dataframe thead th {\n",
       "        text-align: right;\n",
       "    }\n",
       "</style>\n",
       "<table border=\"1\" class=\"dataframe\">\n",
       "  <thead>\n",
       "    <tr style=\"text-align: right;\">\n",
       "      <th></th>\n",
       "      <th>Estimated_Insects_Count</th>\n",
       "      <th>Crop_Type</th>\n",
       "      <th>Soil_Type</th>\n",
       "      <th>Pesticide_Use_Category</th>\n",
       "      <th>Number_Doses_Week</th>\n",
       "      <th>Number_Weeks_Used</th>\n",
       "      <th>Number_Weeks_Quit</th>\n",
       "      <th>Season</th>\n",
       "      <th>Crop_Damage</th>\n",
       "    </tr>\n",
       "  </thead>\n",
       "  <tbody>\n",
       "    <tr>\n",
       "      <th>count</th>\n",
       "      <td>88858.000000</td>\n",
       "      <td>88858.000000</td>\n",
       "      <td>88858.000000</td>\n",
       "      <td>88858.000000</td>\n",
       "      <td>88858.000000</td>\n",
       "      <td>79858.000000</td>\n",
       "      <td>88858.000000</td>\n",
       "      <td>88858.000000</td>\n",
       "      <td>88858.000000</td>\n",
       "    </tr>\n",
       "    <tr>\n",
       "      <th>mean</th>\n",
       "      <td>1399.012210</td>\n",
       "      <td>0.284375</td>\n",
       "      <td>0.458417</td>\n",
       "      <td>2.264186</td>\n",
       "      <td>25.849952</td>\n",
       "      <td>28.623970</td>\n",
       "      <td>9.589986</td>\n",
       "      <td>1.896959</td>\n",
       "      <td>0.190562</td>\n",
       "    </tr>\n",
       "    <tr>\n",
       "      <th>std</th>\n",
       "      <td>849.048781</td>\n",
       "      <td>0.451119</td>\n",
       "      <td>0.498271</td>\n",
       "      <td>0.461772</td>\n",
       "      <td>15.554428</td>\n",
       "      <td>12.391881</td>\n",
       "      <td>9.900631</td>\n",
       "      <td>0.701322</td>\n",
       "      <td>0.454215</td>\n",
       "    </tr>\n",
       "    <tr>\n",
       "      <th>min</th>\n",
       "      <td>150.000000</td>\n",
       "      <td>0.000000</td>\n",
       "      <td>0.000000</td>\n",
       "      <td>1.000000</td>\n",
       "      <td>0.000000</td>\n",
       "      <td>0.000000</td>\n",
       "      <td>0.000000</td>\n",
       "      <td>1.000000</td>\n",
       "      <td>0.000000</td>\n",
       "    </tr>\n",
       "    <tr>\n",
       "      <th>25%</th>\n",
       "      <td>731.000000</td>\n",
       "      <td>0.000000</td>\n",
       "      <td>0.000000</td>\n",
       "      <td>2.000000</td>\n",
       "      <td>15.000000</td>\n",
       "      <td>20.000000</td>\n",
       "      <td>0.000000</td>\n",
       "      <td>1.000000</td>\n",
       "      <td>0.000000</td>\n",
       "    </tr>\n",
       "    <tr>\n",
       "      <th>50%</th>\n",
       "      <td>1212.000000</td>\n",
       "      <td>0.000000</td>\n",
       "      <td>0.000000</td>\n",
       "      <td>2.000000</td>\n",
       "      <td>20.000000</td>\n",
       "      <td>28.000000</td>\n",
       "      <td>7.000000</td>\n",
       "      <td>2.000000</td>\n",
       "      <td>0.000000</td>\n",
       "    </tr>\n",
       "    <tr>\n",
       "      <th>75%</th>\n",
       "      <td>1898.000000</td>\n",
       "      <td>1.000000</td>\n",
       "      <td>1.000000</td>\n",
       "      <td>3.000000</td>\n",
       "      <td>40.000000</td>\n",
       "      <td>37.000000</td>\n",
       "      <td>16.000000</td>\n",
       "      <td>2.000000</td>\n",
       "      <td>0.000000</td>\n",
       "    </tr>\n",
       "    <tr>\n",
       "      <th>max</th>\n",
       "      <td>4097.000000</td>\n",
       "      <td>1.000000</td>\n",
       "      <td>1.000000</td>\n",
       "      <td>3.000000</td>\n",
       "      <td>95.000000</td>\n",
       "      <td>67.000000</td>\n",
       "      <td>50.000000</td>\n",
       "      <td>3.000000</td>\n",
       "      <td>2.000000</td>\n",
       "    </tr>\n",
       "  </tbody>\n",
       "</table>\n",
       "</div>"
      ],
      "text/plain": [
       "       Estimated_Insects_Count     Crop_Type     Soil_Type  \\\n",
       "count             88858.000000  88858.000000  88858.000000   \n",
       "mean               1399.012210      0.284375      0.458417   \n",
       "std                 849.048781      0.451119      0.498271   \n",
       "min                 150.000000      0.000000      0.000000   \n",
       "25%                 731.000000      0.000000      0.000000   \n",
       "50%                1212.000000      0.000000      0.000000   \n",
       "75%                1898.000000      1.000000      1.000000   \n",
       "max                4097.000000      1.000000      1.000000   \n",
       "\n",
       "       Pesticide_Use_Category  Number_Doses_Week  Number_Weeks_Used  \\\n",
       "count            88858.000000       88858.000000       79858.000000   \n",
       "mean                 2.264186          25.849952          28.623970   \n",
       "std                  0.461772          15.554428          12.391881   \n",
       "min                  1.000000           0.000000           0.000000   \n",
       "25%                  2.000000          15.000000          20.000000   \n",
       "50%                  2.000000          20.000000          28.000000   \n",
       "75%                  3.000000          40.000000          37.000000   \n",
       "max                  3.000000          95.000000          67.000000   \n",
       "\n",
       "       Number_Weeks_Quit        Season   Crop_Damage  \n",
       "count       88858.000000  88858.000000  88858.000000  \n",
       "mean            9.589986      1.896959      0.190562  \n",
       "std             9.900631      0.701322      0.454215  \n",
       "min             0.000000      1.000000      0.000000  \n",
       "25%             0.000000      1.000000      0.000000  \n",
       "50%             7.000000      2.000000      0.000000  \n",
       "75%            16.000000      2.000000      0.000000  \n",
       "max            50.000000      3.000000      2.000000  "
      ]
     },
     "execution_count": 5,
     "metadata": {},
     "output_type": "execute_result"
    }
   ],
   "source": [
    "train.describe()"
   ]
  },
  {
   "cell_type": "code",
   "execution_count": 6,
   "metadata": {},
   "outputs": [
    {
     "data": {
      "text/plain": [
       "ID                         88858\n",
       "Estimated_Insects_Count       71\n",
       "Crop_Type                      2\n",
       "Soil_Type                      2\n",
       "Pesticide_Use_Category         3\n",
       "Number_Doses_Week             20\n",
       "Number_Weeks_Used             64\n",
       "Number_Weeks_Quit             51\n",
       "Season                         3\n",
       "Crop_Damage                    3\n",
       "dtype: int64"
      ]
     },
     "execution_count": 6,
     "metadata": {},
     "output_type": "execute_result"
    }
   ],
   "source": [
    "train.nunique()"
   ]
  },
  {
   "cell_type": "code",
   "execution_count": 7,
   "metadata": {},
   "outputs": [
    {
     "name": "stdout",
     "output_type": "stream",
     "text": [
      "(148168, 10)\n"
     ]
    }
   ],
   "source": [
    "# combine both train and test\n",
    "df = pd.concat([train, test], ignore_index=True, sort=False)\n",
    "print(df.shape)"
   ]
  },
  {
   "cell_type": "markdown",
   "metadata": {},
   "source": [
    "> Feature Engineering --> Generating More Features"
   ]
  },
  {
   "cell_type": "code",
   "execution_count": 8,
   "metadata": {},
   "outputs": [
    {
     "data": {
      "text/plain": [
       "Index(['ID', 'Estimated_Insects_Count', 'Crop_Type', 'Soil_Type',\n",
       "       'Pesticide_Use_Category', 'Number_Doses_Week', 'Number_Weeks_Used',\n",
       "       'Number_Weeks_Quit', 'Season', 'Crop_Damage'],\n",
       "      dtype='object')"
      ]
     },
     "execution_count": 8,
     "metadata": {},
     "output_type": "execute_result"
    }
   ],
   "source": [
    "df.columns"
   ]
  },
  {
   "cell_type": "code",
   "execution_count": 9,
   "metadata": {},
   "outputs": [
    {
     "name": "stdout",
     "output_type": "stream",
     "text": [
      "(148168, 18)\n",
      "(148168, 70)\n",
      "(148168, 69)\n"
     ]
    }
   ],
   "source": [
    "df['crop_type_insect_count_mean'] = df.groupby('Crop_Type')['Estimated_Insects_Count'].transform('mean')\n",
    "df['crop_type_insect_count_std'] = df.groupby('Crop_Type')['Estimated_Insects_Count'].transform('std')\n",
    "df['soil_type_insect_count_mean'] = df.groupby('Soil_Type')['Estimated_Insects_Count'].transform('mean')\n",
    "df['soil_type_insect_count_std'] = df.groupby('Soil_Type')['Estimated_Insects_Count'].transform('std')\n",
    "df['Pesticide_Use_Category_insect_count_mean'] = df.groupby('Pesticide_Use_Category')['Estimated_Insects_Count'].transform('mean')\n",
    "df['Pesticide_Use_Category_insect_count_std'] = df.groupby('Pesticide_Use_Category')['Estimated_Insects_Count'].transform('std')\n",
    "df['Number_Doses_Week_insect_count_mean'] = df.groupby('Number_Doses_Week')['Estimated_Insects_Count'].transform('mean')\n",
    "df['Number_Doses_Week_insect_count_std'] = df.groupby('Number_Doses_Week')['Estimated_Insects_Count'].transform('std')\n",
    "# df['Season_insect_count_mean'] = df.groupby('Season')['Estimated_Insects_Count'].transform('mean')\n",
    "# df['Season_insect_count_std'] = df.groupby('Season')['Estimated_Insects_Count'].transform('std')\n",
    "\n",
    "\n",
    "# Dummy Others\n",
    "cols_2_dummy = ['Number_Weeks_Quit', 'Season']\n",
    "\n",
    "df_dum = pd.get_dummies(data=df, columns=cols_2_dummy)\n",
    "print(df.shape)\n",
    "print(df_dum.shape)\n",
    "\n",
    "# Drop ID column\n",
    "cols_2_drop = ['ID']\n",
    "df_dum.drop(cols_2_drop, axis=1, inplace=True)\n",
    "print(df_dum.shape)\n",
    "\n",
    "# Standardized the Data and Return to DataFrame\n",
    "\n",
    "# ## To be done later to further imporove model if need be..\n",
    "from sklearn.preprocessing import StandardScaler\n",
    "sc = StandardScaler()\n"
   ]
  },
  {
   "cell_type": "markdown",
   "metadata": {},
   "source": [
    "> Get Train and Test Data"
   ]
  },
  {
   "cell_type": "code",
   "execution_count": 10,
   "metadata": {},
   "outputs": [],
   "source": [
    "train = df_dum[df_dum['Crop_Damage'].isna() == False]\n",
    "test = df_dum[df_dum['Crop_Damage'].isna() == True]\n",
    "test.drop('Crop_Damage', axis=1, inplace=True)\n",
    "\n",
    "X = train.drop('Crop_Damage', axis=1)\n",
    "y = train['Crop_Damage']\n",
    "\n",
    "# Apply Standardization\n",
    "X_sc = sc.fit_transform(X)\n",
    "test = sc.transform(test)"
   ]
  },
  {
   "cell_type": "markdown",
   "metadata": {},
   "source": [
    "> Build CV "
   ]
  },
  {
   "cell_type": "code",
   "execution_count": 11,
   "metadata": {},
   "outputs": [
    {
     "name": "stdout",
     "output_type": "stream",
     "text": [
      "0:\tlearn: 0.8405875\ttest: 0.8405875\ttest1: 0.8395228\tbest: 0.8395228 (0)\ttotal: 178ms\tremaining: 29m 38s\n",
      "1000:\tlearn: 0.8463692\ttest: 0.8463692\ttest1: 0.8450371\tbest: 0.8451497 (989)\ttotal: 1m 17s\tremaining: 11m 34s\n",
      "Stopped by overfitting detector  (300 iterations wait)\n",
      "\n",
      "bestTest = 0.8455998199\n",
      "bestIteration = 1085\n",
      "\n",
      "Shrink model to first 1086 iterations.\n",
      "err: 0.845599819941481\n",
      "0:\tlearn: 0.8398982\ttest: 0.8398982\ttest1: 0.8421675\tbest: 0.8421675 (0)\ttotal: 130ms\tremaining: 21m 39s\n",
      "1000:\tlearn: 0.8459753\ttest: 0.8459753\ttest1: 0.8480194\tbest: 0.8480194 (992)\ttotal: 1m 17s\tremaining: 11m 33s\n",
      "Stopped by overfitting detector  (300 iterations wait)\n",
      "\n",
      "bestTest = 0.8480193563\n",
      "bestIteration = 992\n",
      "\n",
      "Shrink model to first 993 iterations.\n",
      "err: 0.8480193562907945\n",
      "0:\tlearn: 0.8410939\ttest: 0.8410939\ttest1: 0.8374972\tbest: 0.8374972 (0)\ttotal: 82.8ms\tremaining: 13m 47s\n",
      "1000:\tlearn: 0.8470726\ttest: 0.8470726\ttest1: 0.8436304\tbest: 0.8436867 (998)\ttotal: 1m 17s\tremaining: 11m 34s\n",
      "2000:\tlearn: 0.8497735\ttest: 0.8497735\ttest1: 0.8445307\tbest: 0.8447558 (1969)\ttotal: 2m 33s\tremaining: 10m 15s\n",
      "Stopped by overfitting detector  (300 iterations wait)\n",
      "\n",
      "bestTest = 0.8447557956\n",
      "bestIteration = 1969\n",
      "\n",
      "Shrink model to first 1970 iterations.\n",
      "err: 0.8447557956335809\n",
      "0:\tlearn: 0.8403084\ttest: 0.8403084\ttest1: 0.8406392\tbest: 0.8406392 (0)\ttotal: 91.3ms\tremaining: 15m 12s\n",
      "Stopped by overfitting detector  (300 iterations wait)\n",
      "\n",
      "bestTest = 0.8440155309\n",
      "bestIteration = 698\n",
      "\n",
      "Shrink model to first 699 iterations.\n",
      "err: 0.8440155309211637\n",
      "0:\tlearn: 0.8400270\ttest: 0.8400270\ttest1: 0.8417647\tbest: 0.8417647 (0)\ttotal: 83ms\tremaining: 13m 50s\n",
      "Stopped by overfitting detector  (300 iterations wait)\n",
      "\n",
      "bestTest = 0.8453097744\n",
      "bestIteration = 172\n",
      "\n",
      "Shrink model to first 173 iterations.\n",
      "err: 0.8453097743514715\n"
     ]
    },
    {
     "data": {
      "text/plain": [
       "0.8455400554276983"
      ]
     },
     "execution_count": 11,
     "metadata": {},
     "output_type": "execute_result"
    }
   ],
   "source": [
    "from xgboost import XGBClassifier\n",
    "from catboost import CatBoostClassifier\n",
    "from lightgbm import LGBMClassifier\n",
    "\n",
    "from sklearn.model_selection import KFold\n",
    "from sklearn.metrics import accuracy_score\n",
    "\n",
    "err = []\n",
    "y_pred_totcb = []\n",
    "kfold = KFold(n_splits=5, random_state=2001)\n",
    "for train_index, test_index in kfold.split(X,y):\n",
    "    X_train, X_test = X.iloc[train_index], X.iloc[test_index]\n",
    "    y_train, y_test = y.iloc[train_index], y.iloc[test_index]    \n",
    "    \n",
    "    m1 = CatBoostClassifier(iterations=10000, learning_rate=0.01, eval_metric='Accuracy',\n",
    "                            random_state=110)\n",
    "    m1.fit(X_train, y_train, eval_set=[(X_train, y_train), (X_test, y_test)],\n",
    "           early_stopping_rounds=300, verbose=1000)\n",
    "    preds = m1.predict(X_test)\n",
    "    print('err:', accuracy_score(y_test, preds))\n",
    "    err.append(accuracy_score(y_test, preds))\n",
    "    p2 = m1.predict(test)\n",
    "    y_pred_totcb.append(p2)\n",
    "np.mean(err)"
   ]
  },
  {
   "cell_type": "code",
   "execution_count": 14,
   "metadata": {},
   "outputs": [
    {
     "name": "stdout",
     "output_type": "stream",
     "text": [
      "[0]\tvalidation_0-merror:0.159413\tvalidation_1-merror:0.160477\n",
      "Multiple eval metrics have been passed: 'validation_1-merror' will be used for early stopping.\n",
      "\n",
      "Will train until validation_1-merror hasn't improved in 300 rounds.\n",
      "[99]\tvalidation_0-merror:0.159413\tvalidation_1-merror:0.160477\n",
      "err: 0.8426176007202341\n",
      "[0]\tvalidation_0-merror:0.160144\tvalidation_1-merror:0.157551\n",
      "Multiple eval metrics have been passed: 'validation_1-merror' will be used for early stopping.\n",
      "\n",
      "Will train until validation_1-merror hasn't improved in 300 rounds.\n",
      "[99]\tvalidation_0-merror:0.160144\tvalidation_1-merror:0.157551\n",
      "err: 0.8424487958586541\n",
      "[0]\tvalidation_0-merror:0.158906\tvalidation_1-merror:0.162503\n",
      "Multiple eval metrics have been passed: 'validation_1-merror' will be used for early stopping.\n",
      "\n",
      "Will train until validation_1-merror hasn't improved in 300 rounds.\n",
      "[99]\tvalidation_0-merror:0.158906\tvalidation_1-merror:0.162503\n",
      "err: 0.8374971865856403\n",
      "[0]\tvalidation_0-merror:0.159692\tvalidation_1-merror:0.159361\n",
      "Multiple eval metrics have been passed: 'validation_1-merror' will be used for early stopping.\n",
      "\n",
      "Will train until validation_1-merror hasn't improved in 300 rounds.\n",
      "[99]\tvalidation_0-merror:0.159692\tvalidation_1-merror:0.159361\n",
      "err: 0.8406392437116651\n",
      "[0]\tvalidation_0-merror:0.159973\tvalidation_1-merror:0.158235\n",
      "Multiple eval metrics have been passed: 'validation_1-merror' will be used for early stopping.\n",
      "\n",
      "Will train until validation_1-merror hasn't improved in 300 rounds.\n",
      "[99]\tvalidation_0-merror:0.15678\tvalidation_1-merror:0.154915\n",
      "err: 0.845084688537505\n"
     ]
    },
    {
     "data": {
      "text/plain": [
       "0.8416575030827398"
      ]
     },
     "execution_count": 14,
     "metadata": {},
     "output_type": "execute_result"
    }
   ],
   "source": [
    "\n",
    "err2 = []\n",
    "y_pred_totcb2 = []\n",
    "kfold = KFold(n_splits=5, random_state=2001)\n",
    "X = pd.DataFrame(X_sc)\n",
    "test = pd.DataFrame(test)\n",
    "for train_index, test_index in kfold.split(X,y):\n",
    "    X_train, X_test = X.iloc[train_index], X.iloc[test_index]\n",
    "    y_train, y_test = y.iloc[train_index], y.iloc[test_index]    \n",
    "    \n",
    "    m2 = XGBClassifier(iterations=2000, learning_rate=0.01, random_state=110)\n",
    "    m2.fit(X_train, y_train, eval_set=[(X_train, y_train), (X_test, y_test)],\n",
    "           early_stopping_rounds=300, verbose=500)\n",
    "    preds = m2.predict(X_test)\n",
    "    print('err:', accuracy_score(y_test, preds))\n",
    "    err2.append(accuracy_score(y_test, preds))\n",
    "    p2 = m2.predict(test)\n",
    "    y_pred_totcb2.append(p2)\n",
    "np.mean(err2)"
   ]
  },
  {
   "cell_type": "code",
   "execution_count": 15,
   "metadata": {},
   "outputs": [
    {
     "name": "stdout",
     "output_type": "stream",
     "text": [
      "Training until validation scores don't improve for 300 rounds\n",
      "Did not meet early stopping. Best iteration is:\n",
      "[100]\ttraining's multi_logloss: 0.379345\tvalid_1's multi_logloss: 0.422424\n",
      "err: 0.8467251856853477\n",
      "Training until validation scores don't improve for 300 rounds\n",
      "Did not meet early stopping. Best iteration is:\n",
      "[100]\ttraining's multi_logloss: 0.379211\tvalid_1's multi_logloss: 0.421199\n",
      "err: 0.8490884537474679\n",
      "Training until validation scores don't improve for 300 rounds\n",
      "Did not meet early stopping. Best iteration is:\n",
      "[100]\ttraining's multi_logloss: 0.376469\tvalid_1's multi_logloss: 0.42581\n",
      "err: 0.8431802835921675\n",
      "Training until validation scores don't improve for 300 rounds\n",
      "Did not meet early stopping. Best iteration is:\n",
      "[100]\ttraining's multi_logloss: 0.378846\tvalid_1's multi_logloss: 0.421447\n",
      "err: 0.8464352034213044\n",
      "Training until validation scores don't improve for 300 rounds\n",
      "Did not meet early stopping. Best iteration is:\n",
      "[100]\ttraining's multi_logloss: 0.378108\tvalid_1's multi_logloss: 0.423501\n",
      "err: 0.8479545326655787\n"
     ]
    },
    {
     "data": {
      "text/plain": [
       "0.8466767318223732"
      ]
     },
     "execution_count": 15,
     "metadata": {},
     "output_type": "execute_result"
    }
   ],
   "source": [
    "\n",
    "err3 = []\n",
    "y_pred_totcb3 = []\n",
    "kfold = KFold(n_splits=5, random_state=2001)\n",
    "for train_index, test_index in kfold.split(X,y):\n",
    "    X_train, X_test = X.iloc[train_index], X.iloc[test_index]\n",
    "    y_train, y_test = y.iloc[train_index], y.iloc[test_index]    \n",
    "    \n",
    "    m3 = LGBMClassifier(iterations=10000, learning_rate=0.2, random_state=110)\n",
    "    m3.fit(X_train, y_train, eval_set=[(X_train, y_train), (X_test, y_test)],\n",
    "           early_stopping_rounds=300, verbose=1000)\n",
    "    preds = m3.predict(X_test)\n",
    "    print('err:', accuracy_score(y_test, preds))\n",
    "    err3.append(accuracy_score(y_test, preds))\n",
    "    p3 = m3.predict(test)\n",
    "    y_pred_totcb3.append(p3)\n",
    "np.mean(err3)"
   ]
  },
  {
   "cell_type": "markdown",
   "metadata": {},
   "source": [
    "> Make Submission"
   ]
  },
  {
   "cell_type": "code",
   "execution_count": 16,
   "metadata": {},
   "outputs": [],
   "source": [
    "predict1 = np.mean(y_pred_totcb, 0)\n",
    "predict2 = np.mean(y_pred_totcb2, 0)\n",
    "predict3 = np.mean(y_pred_totcb3, 0)\n",
    "\n",
    "a = {'Crop_Damage': (predict1)}\n",
    "b = {'Crop_Damage': (predict2)}\n",
    "c = {'Crop_Damage': (predict3)}\n",
    "\n",
    "# sub1 = pd.DataFrame(data=a)\n",
    "# sub2 = pd.DataFrame(data=b)\n",
    "# sub3 = pd.DataFrame(data=c)"
   ]
  },
  {
   "cell_type": "code",
   "execution_count": 19,
   "metadata": {},
   "outputs": [],
   "source": [
    "sub['Crop_Damage'] = predict2\n",
    "sub.to_csv('sub1.csv', index=False)"
   ]
  },
  {
   "cell_type": "code",
   "execution_count": 20,
   "metadata": {},
   "outputs": [
    {
     "data": {
      "text/plain": [
       "11    0.401903\n",
       "3     0.186637\n",
       "5     0.136458\n",
       "12    0.120770\n",
       "0     0.099302\n",
       "1     0.034119\n",
       "4     0.017880\n",
       "67    0.002931\n",
       "59    0.000000\n",
       "58    0.000000\n",
       "Name: feature_importance, dtype: float32"
      ]
     },
     "execution_count": 20,
     "metadata": {},
     "output_type": "execute_result"
    }
   ],
   "source": [
    "fi = pd.Series(index=X.columns, data=m2.feature_importances_, name='feature_importance')\n",
    "fi = fi.sort_values(ascending=False)\n",
    "fi.head(10)"
   ]
  },
  {
   "cell_type": "code",
   "execution_count": 34,
   "metadata": {},
   "outputs": [
    {
     "data": {
      "text/plain": [
       "<matplotlib.axes._subplots.AxesSubplot at 0x22002882648>"
      ]
     },
     "execution_count": 34,
     "metadata": {},
     "output_type": "execute_result"
    },
    {
     "data": {
      "image/png": "[encoded data removed]",
      "text/plain": [
       "<Figure size 1008x504 with 1 Axes>"
      ]
     },
     "metadata": {
      "needs_background": "light"
     },
     "output_type": "display_data"
    }
   ],
   "source": [
    "fi.plot(kind='bar', figsize=(14, 7), title='Feature IMportance of XGBOOSTClassifier')\n",
    "# plt.show()"
   ]
  },
  {
   "cell_type": "code",
   "execution_count": null,
   "metadata": {},
   "outputs": [],
   "source": []
  }
 ],
 "metadata": {
  "kernelspec": {
   "display_name": "Python 3",
   "language": "python",
   "name": "python3"
  },
  "language_info": {
   "codemirror_mode": {
    "name": "ipython",
    "version": 3
   },
   "file_extension": ".py",
   "mimetype": "text/x-python",
   "name": "python",
   "nbconvert_exporter": "python",
   "pygments_lexer": "ipython3",
   "version": "3.7.4"
  }
 },
 "nbformat": 4,
 "nbformat_minor": 2
}
